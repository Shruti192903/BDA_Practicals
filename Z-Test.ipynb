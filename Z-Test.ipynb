{
 "cells": [
  {
   "cell_type": "code",
   "execution_count": 1,
   "id": "1290cabb",
   "metadata": {},
   "outputs": [],
   "source": [
    "# Python program to implement One Sample Z-Test"
   ]
  },
  {
   "cell_type": "code",
   "execution_count": 2,
   "id": "1852c245",
   "metadata": {},
   "outputs": [],
   "source": [
    "# Importing the required libraries\n",
    "import pandas as pd\n",
    "from scipy import stats\n",
    "from statsmodels.stats import weightstats as stests"
   ]
  },
  {
   "cell_type": "code",
   "execution_count": 3,
   "id": "702adc09",
   "metadata": {},
   "outputs": [],
   "source": [
    "# Creating a dataset\n",
    "data = [89, 93, 95, 93, 97, 98, 96, 99, 93, 97,\n",
    "110, 104, 119, 105, 104, 110, 110, 112, 115, 114]"
   ]
  },
  {
   "cell_type": "code",
   "execution_count": 4,
   "id": "2fad4338",
   "metadata": {},
   "outputs": [
    {
     "name": "stdout",
     "output_type": "stream",
     "text": [
      "2.417334226169332e-186\n"
     ]
    }
   ],
   "source": [
    "# Performing the z-test\n",
    "z_test ,p_val = stests.ztest(data, x2 = None, value = 160)\n",
    "print(p_val)"
   ]
  },
  {
   "cell_type": "code",
   "execution_count": 6,
   "id": "e77d199f",
   "metadata": {},
   "outputs": [
    {
     "name": "stdout",
     "output_type": "stream",
     "text": [
      "We can reject the null hypothesis\n"
     ]
    }
   ],
   "source": [
    "# taking the threshold value as 0.05 or 5%\n",
    "if p_val < 0.05:\n",
    "    print(\"We can reject the null hypothesis\")\n",
    "else:\n",
    "    print(\"We can accept the null hypothesis\")"
   ]
  },
  {
   "cell_type": "code",
   "execution_count": null,
   "id": "fed30214",
   "metadata": {},
   "outputs": [],
   "source": []
  }
 ],
 "metadata": {
  "kernelspec": {
   "display_name": "Python 3 (ipykernel)",
   "language": "python",
   "name": "python3"
  },
  "language_info": {
   "codemirror_mode": {
    "name": "ipython",
    "version": 3
   },
   "file_extension": ".py",
   "mimetype": "text/x-python",
   "name": "python",
   "nbconvert_exporter": "python",
   "pygments_lexer": "ipython3",
   "version": "3.9.13"
  }
 },
 "nbformat": 4,
 "nbformat_minor": 5
}
