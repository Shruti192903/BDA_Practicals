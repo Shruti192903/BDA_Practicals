{
 "cells": [
  {
   "cell_type": "code",
   "execution_count": 1,
   "id": "055f91c7",
   "metadata": {},
   "outputs": [],
   "source": [
    "# Python program to implement Mann-Whitney U Test\n",
    "# Importing the required dataset\n",
    "from scipy.stats import mannwhitneyu"
   ]
  },
  {
   "cell_type": "code",
   "execution_count": 7,
   "id": "e55f84f5",
   "metadata": {},
   "outputs": [],
   "source": [
    "# Creating the dataset\n",
    "data1 = [10,20,30,40,50,66,55,34,54,39]\n",
    "data2 = [33,45,67,87,98,44,33,98,70,90]"
   ]
  },
  {
   "cell_type": "code",
   "execution_count": 8,
   "id": "bdf46b2c",
   "metadata": {},
   "outputs": [
    {
     "name": "stdout",
     "output_type": "stream",
     "text": [
      "P-value is:  0.03749166577977576\n"
     ]
    }
   ],
   "source": [
    "# Implementing the test\n",
    "k_test, p_val = mannwhitneyu(data1, data2)\n",
    "print(\"P-value is: \", p_val)"
   ]
  },
  {
   "cell_type": "code",
   "execution_count": 9,
   "id": "cbfece3f",
   "metadata": {},
   "outputs": [
    {
     "name": "stdout",
     "output_type": "stream",
     "text": [
      " We can reject the null hypothesis\n"
     ]
    }
   ],
   "source": [
    "# taking the threshold value as 0.05 or 5%\n",
    "if p_val < 0.05:\n",
    "    print(\" We can reject the null hypothesis\")\n",
    "else:\n",
    "    print(\"We can accept the null hypothesis\")"
   ]
  },
  {
   "cell_type": "code",
   "execution_count": null,
   "id": "d83e1109",
   "metadata": {},
   "outputs": [],
   "source": []
  }
 ],
 "metadata": {
  "kernelspec": {
   "display_name": "Python 3 (ipykernel)",
   "language": "python",
   "name": "python3"
  },
  "language_info": {
   "codemirror_mode": {
    "name": "ipython",
    "version": 3
   },
   "file_extension": ".py",
   "mimetype": "text/x-python",
   "name": "python",
   "nbconvert_exporter": "python",
   "pygments_lexer": "ipython3",
   "version": "3.9.13"
  }
 },
 "nbformat": 4,
 "nbformat_minor": 5
}
